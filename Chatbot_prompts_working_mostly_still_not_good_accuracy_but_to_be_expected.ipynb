{
  "nbformat": 4,
  "nbformat_minor": 0,
  "metadata": {
    "colab": {
      "provenance": [],
      "authorship_tag": "ABX9TyMXrcnxBEss0iNpxlJ1/pP7",
      "include_colab_link": true
    },
    "kernelspec": {
      "name": "python3",
      "display_name": "Python 3"
    },
    "language_info": {
      "name": "python"
    }
  },
  "cells": [
    {
      "cell_type": "markdown",
      "metadata": {
        "id": "view-in-github",
        "colab_type": "text"
      },
      "source": [
        "<a href=\"https://colab.research.google.com/github/AtillaMehmet/FinalProjectPrototype/blob/main/Chatbot_prompts_working_mostly_still_not_good_accuracy_but_to_be_expected.ipynb\" target=\"_parent\"><img src=\"https://colab.research.google.com/assets/colab-badge.svg\" alt=\"Open In Colab\"/></a>"
      ]
    },
    {
      "cell_type": "code",
      "execution_count": null,
      "metadata": {
        "colab": {
          "base_uri": "https://localhost:8080/"
        },
        "id": "KGDtsoD_To2e",
        "outputId": "c2c4bd37-7e93-462c-c943-117dc7645fd2"
      },
      "outputs": [
        {
          "output_type": "stream",
          "name": "stderr",
          "text": [
            "[nltk_data] Downloading package punkt to /root/nltk_data...\n",
            "[nltk_data]   Unzipping tokenizers/punkt.zip.\n"
          ]
        },
        {
          "output_type": "execute_result",
          "data": {
            "text/plain": [
              "True"
            ]
          },
          "metadata": {},
          "execution_count": 1
        }
      ],
      "source": [
        "import nltk\n",
        "nltk.download('punkt')#Sentence tokenizer"
      ]
    },
    {
      "cell_type": "code",
      "source": [
        "import nltk\n",
        "from nltk.stem import WordNetLemmatizer\n",
        "lemmatizer = WordNetLemmatizer()\n",
        "import json\n",
        "import pickle\n",
        "import warnings\n",
        "import string\n",
        "warnings.filterwarnings('ignore')"
      ],
      "metadata": {
        "id": "Xp_Izci3Tw26"
      },
      "execution_count": null,
      "outputs": []
    },
    {
      "cell_type": "code",
      "source": [
        "import numpy as np\n",
        "import tensorflow as tf\n",
        "from keras.models import Sequential\n",
        "from keras.layers import Dense, Activation, Dropout\n",
        "from tensorflow.keras.optimizers import SGD\n",
        "import random"
      ],
      "metadata": {
        "id": "2AFxkqN8Tzeh"
      },
      "execution_count": null,
      "outputs": []
    },
    {
      "cell_type": "code",
      "source": [
        "# Load JSON data\n",
        "data_file = open('/content/intents.json').read()\n",
        "intents_data = json.loads(data_file)\n",
        "\n",
        "# Access the 'intents' list under the 'root' key\n",
        "intents = intents_data['root']['intents']\n",
        "\n",
        "# Now we can iterate over the intents\n",
        "for intent in intents:\n",
        "    tag = intent['tag']\n",
        "    patterns = intent['patterns']\n",
        "    responses = intent['responses']\n",
        "    context_set = intent['context_set']"
      ],
      "metadata": {
        "id": "mPf-9DUKT2ZW"
      },
      "execution_count": null,
      "outputs": []
    },
    {
      "cell_type": "code",
      "source": [
        "documents = []  # Initialize the documents list\n",
        "words = []\n",
        "classes = []\n",
        "\n",
        "for intent in intents:\n",
        "    for pattern in intent['patterns']:\n",
        "        # tokenize each word\n",
        "        w = nltk.word_tokenize(pattern)\n",
        "        words.extend(w)  # add each element into list\n",
        "        # combination between patterns and intents\n",
        "        documents.append((w, intent['tag']))  # add single element to end of list\n",
        "        # add to tag in our classes list\n",
        "        if intent['tag'] not in classes:\n",
        "            classes.append(intent['tag'])\n",
        "\n"
      ],
      "metadata": {
        "id": "8I0LU2ATT9hG"
      },
      "execution_count": null,
      "outputs": []
    },
    {
      "cell_type": "code",
      "source": [
        "nltk.download('wordnet') #lexical database for the English language"
      ],
      "metadata": {
        "colab": {
          "base_uri": "https://localhost:8080/"
        },
        "id": "RCJRWX8eWbHg",
        "outputId": "724a685c-327b-4c4e-d76d-8c056b670be6"
      },
      "execution_count": null,
      "outputs": [
        {
          "output_type": "stream",
          "name": "stderr",
          "text": [
            "[nltk_data] Downloading package wordnet to /root/nltk_data...\n"
          ]
        },
        {
          "output_type": "execute_result",
          "data": {
            "text/plain": [
              "True"
            ]
          },
          "metadata": {},
          "execution_count": 6
        }
      ]
    },
    {
      "cell_type": "code",
      "source": [
        "nltk.download('omw-1.4')"
      ],
      "metadata": {
        "colab": {
          "base_uri": "https://localhost:8080/"
        },
        "id": "MJEcxcs-WdbT",
        "outputId": "4029a6dd-ee34-43ea-e285-d84de22a5f72"
      },
      "execution_count": null,
      "outputs": [
        {
          "output_type": "stream",
          "name": "stderr",
          "text": [
            "[nltk_data] Downloading package omw-1.4 to /root/nltk_data...\n"
          ]
        },
        {
          "output_type": "execute_result",
          "data": {
            "text/plain": [
              "True"
            ]
          },
          "metadata": {},
          "execution_count": 7
        }
      ]
    },
    {
      "cell_type": "code",
      "source": [
        "ignore_words = ['?', '!', ',', '.']  # Define the words you want to ignore"
      ],
      "metadata": {
        "id": "sSRh1sZyZCRv"
      },
      "execution_count": null,
      "outputs": []
    },
    {
      "cell_type": "code",
      "source": [
        "# lemmatize, lower each word and remove duplicates\n",
        "words = [lemmatizer.lemmatize(w.lower()) for w in words if w not in ignore_words]\n",
        "words = sorted(list(set(words)))\n",
        "# sort classes\n",
        "classes = sorted(list(set(classes)))\n",
        "# documents = combination between patterns and intents\n",
        "print (len(documents), \"documents\\n\", documents, \"\\n\")\n",
        "# classes = intents[tag]\n",
        "print (len(classes), \"classes\\n\", classes, \"\\n\")\n",
        "# words = all words, vocabulary\n",
        "print (len(words), \"unique lemmatized words\\n\", words, \"\\n\")\n",
        "pickle.dump(words,open('words.pkl','wb'))\n",
        "pickle.dump(classes,open('classes.pkl','wb'))"
      ],
      "metadata": {
        "colab": {
          "base_uri": "https://localhost:8080/"
        },
        "id": "C1JSVj78Wi3j",
        "outputId": "a72710f8-4f2c-4550-cf93-e3c0d026f27a"
      },
      "execution_count": null,
      "outputs": [
        {
          "output_type": "stream",
          "name": "stdout",
          "text": [
            "70 documents\n",
            " [(['hello'], 'greeting'), (['hi'], 'greeting'), (['hey', 'you'], 'greeting'), (['yo'], 'greeting'), (['good', 'morning'], 'greeting'), (['good', 'afternoon'], 'greeting'), (['python'], 'python'), (['Tell', 'me', 'about', 'Python'], 'python'), (['What', 'can', 'you', 'tell', 'me', 'about', 'Python', '?'], 'python'), (['I', 'want', 'to', 'learn', 'Python'], 'python'), (['java'], 'java'), (['Can', 'you', 'tell', 'me', 'about', 'Java', '?'], 'java'), (['What', \"'s\", 'special', 'about', 'Java', '?'], 'java'), (['I', 'need', 'information', 'about', 'Java'], 'java'), (['javascript'], 'javascript'), (['What', 'can', 'you', 'tell', 'me', 'about', 'JavaScript', '?'], 'javascript'), (['Tell', 'me', 'more', 'about', 'JavaScript'], 'javascript'), (['I', 'want', 'to', 'learn', 'JavaScript'], 'javascript'), (['c++'], 'c++'), (['What', 'is', 'C++', '?'], 'c++'), (['Tell', 'me', 'about', 'C++'], 'c++'), (['Why', 'should', 'I', 'learn', 'C++', '?'], 'c++'), (['ruby'], 'ruby'), (['What', 'is', 'Ruby', '?'], 'ruby'), (['Tell', 'me', 'about', 'Ruby'], 'ruby'), (['Why', 'should', 'I', 'learn', 'Ruby', '?'], 'ruby'), (['swift'], 'swift'), (['What', 'is', 'Swift', '?'], 'swift'), (['Tell', 'me', 'about', 'Swift'], 'swift'), (['Why', 'should', 'I', 'learn', 'Swift', '?'], 'swift'), (['go'], 'go'), (['What', 'is', 'Go', '?'], 'go'), (['Tell', 'me', 'about', 'Go'], 'go'), (['Why', 'should', 'I', 'learn', 'Go', '?'], 'go'), (['php'], 'php'), (['What', 'is', 'PHP', '?'], 'php'), (['Tell', 'me', 'about', 'PHP'], 'php'), (['Why', 'should', 'I', 'learn', 'PHP', '?'], 'php'), (['html'], 'html'), (['What', 'is', 'HTML', '?'], 'html'), (['Tell', 'me', 'about', 'HTML'], 'html'), (['Why', 'should', 'I', 'learn', 'HTML', '?'], 'html'), (['css'], 'css'), (['What', 'is', 'CSS', '?'], 'css'), (['Tell', 'me', 'about', 'CSS'], 'css'), (['Why', 'should', 'I', 'learn', 'CSS', '?'], 'css'), (['sql'], 'sql'), (['What', 'is', 'SQL', '?'], 'sql'), (['Tell', 'me', 'about', 'SQL'], 'sql'), (['Why', 'should', 'I', 'learn', 'SQL', '?'], 'sql'), (['typescript'], 'typescript'), (['What', 'is', 'TypeScript', '?'], 'typescript'), (['Tell', 'me', 'about', 'TypeScript'], 'typescript'), (['Why', 'should', 'I', 'learn', 'TypeScript', '?'], 'typescript'), (['front', 'end', 'developer'], 'front end developer'), (['What', 'does', 'a', 'front', 'end', 'developer', 'do', '?'], 'front end developer'), (['Tell', 'me', 'about', 'front', 'end', 'development'], 'front end developer'), (['What', 'skills', 'do', 'I', 'need', 'to', 'be', 'a', 'front', 'end', 'developer', '?'], 'front end developer'), (['back', 'end', 'developer'], 'back end developer'), (['What', 'does', 'a', 'back', 'end', 'developer', 'do', '?'], 'back end developer'), (['Tell', 'me', 'about', 'back', 'end', 'development'], 'back end developer'), (['What', 'skills', 'do', 'I', 'need', 'to', 'be', 'a', 'back', 'end', 'developer', '?'], 'back end developer'), (['full', 'stack', 'developer'], 'full stack developer'), (['What', 'does', 'a', 'full', 'stack', 'developer', 'do', '?'], 'full stack developer'), (['Tell', 'me', 'about', 'full', 'stack', 'development'], 'full stack developer'), (['What', 'skills', 'do', 'I', 'need', 'to', 'be', 'a', 'full', 'stack', 'developer', '?'], 'full stack developer'), (['mobile', 'developer'], 'mobile developer'), (['What', 'does', 'a', 'mobile', 'developer', 'do', '?'], 'mobile developer'), (['Tell', 'me', 'about', 'mobile', 'development'], 'mobile developer'), (['What', 'skills', 'do', 'I', 'need', 'to', 'be', 'a', 'mobile', 'developer', '?'], 'mobile developer')] \n",
            "\n",
            "17 classes\n",
            " ['back end developer', 'c++', 'css', 'front end developer', 'full stack developer', 'go', 'greeting', 'html', 'java', 'javascript', 'mobile developer', 'php', 'python', 'ruby', 'sql', 'swift', 'typescript'] \n",
            "\n",
            "50 unique lemmatized words\n",
            " [\"'s\", 'a', 'about', 'afternoon', 'back', 'be', 'c++', 'can', 'cs', 'developer', 'development', 'do', 'doe', 'end', 'front', 'full', 'go', 'good', 'hello', 'hey', 'hi', 'html', 'i', 'information', 'is', 'java', 'javascript', 'learn', 'me', 'mobile', 'more', 'morning', 'need', 'php', 'python', 'ruby', 'should', 'skill', 'special', 'sql', 'stack', 'swift', 'tell', 'to', 'typescript', 'want', 'what', 'why', 'yo', 'you'] \n",
            "\n"
          ]
        }
      ]
    },
    {
      "cell_type": "code",
      "source": [
        "pattern_words = ['Hello','is','sun','having']\n",
        "pattern_words"
      ],
      "metadata": {
        "colab": {
          "base_uri": "https://localhost:8080/"
        },
        "id": "mGjh3DMuefFy",
        "outputId": "98fbc52d-dd97-42f0-ade6-223d5bd7e33b"
      },
      "execution_count": null,
      "outputs": [
        {
          "output_type": "execute_result",
          "data": {
            "text/plain": [
              "['Hello', 'is', 'sun', 'having']"
            ]
          },
          "metadata": {},
          "execution_count": 10
        }
      ]
    },
    {
      "cell_type": "code",
      "source": [
        "# create our training data\n",
        "training = []\n",
        "# create an empty array for our output\n",
        "output_empty = [0] * len(classes)\n",
        "# training set, bag of words for each sentence\n",
        "for doc in documents:\n",
        "    # initialize our bag of words\n",
        "    bag = []\n",
        "    # list of tokenized words\n",
        "    pattern_words = doc[0]\n",
        "    # convert pattern_words to lower case and lemmatize\n",
        "    pattern_words = [lemmatizer.lemmatize(word.lower()) for word in pattern_words]\n",
        "    # create bag of words array, if word match found in current pattern then put 1 otherwise 0.\n",
        "    for w in words:\n",
        "        bag.append(1) if w in pattern_words else bag.append(0)\n",
        "\n",
        "    # in output array 0 value for each tag and 1 value for matched tag.\n",
        "    output_row = list(output_empty)\n",
        "    output_row[classes.index(doc[1])] = 1\n",
        "\n",
        "    training.append([bag, output_row])  # Append the bag of words and output array as a list\n",
        "\n",
        "# shuffle training\n",
        "random.shuffle(training)\n",
        "\n",
        "# Extract input and output data\n",
        "train_x = np.array([item[0] for item in training])  # Extract bag of words\n",
        "train_y = np.array([item[1] for item in training])  # Extract output arrays\n",
        "\n",
        "print(\"Training data created\")\n"
      ],
      "metadata": {
        "colab": {
          "base_uri": "https://localhost:8080/"
        },
        "id": "9cfQCkT6Wosm",
        "outputId": "5790664e-01ea-409c-c352-2fd073e385a5"
      },
      "execution_count": null,
      "outputs": [
        {
          "output_type": "stream",
          "name": "stdout",
          "text": [
            "Training data created\n"
          ]
        }
      ]
    },
    {
      "cell_type": "code",
      "source": [
        "from tensorflow.python.framework import ops\n",
        "ops.reset_default_graph()"
      ],
      "metadata": {
        "id": "W5C2YjFvW7ue"
      },
      "execution_count": null,
      "outputs": []
    },
    {
      "cell_type": "code",
      "source": [
        "# Create model - 3 layers. First layer 128 neurons, second layer 64 neurons and 3rd output layer contains number of neurons\n",
        "# equal to number of intents to predict output intent with softmax\n",
        "model = Sequential()\n",
        "model.add(Dense(128, input_shape=(len(train_x[0]),), activation='relu'))\n",
        "model.add(Dropout(0.5))\n",
        "model.add(Dense(64, activation='relu'))\n",
        "model.add(Dropout(0.5))\n",
        "model.add(Dense(len(train_y[0]), activation='softmax'))\n",
        "print(\"First layer:\",model.layers[0].get_weights()[0])"
      ],
      "metadata": {
        "colab": {
          "base_uri": "https://localhost:8080/"
        },
        "id": "0If6LNEFW-92",
        "outputId": "1c7ef486-ec94-4fa3-b894-7c2c51015101"
      },
      "execution_count": null,
      "outputs": [
        {
          "output_type": "stream",
          "name": "stdout",
          "text": [
            "First layer: [[ 0.02640143  0.00248569 -0.15232633 ...  0.01943405 -0.1582182\n",
            "   0.10347129]\n",
            " [-0.07114959  0.16097392  0.0883031  ... -0.15224299 -0.11245032\n",
            "  -0.10525242]\n",
            " [-0.16807246 -0.08150359  0.1552413  ... -0.15968907  0.14650829\n",
            "  -0.00379887]\n",
            " ...\n",
            " [-0.15796879  0.08035998 -0.0636023  ... -0.01709767 -0.13074885\n",
            "   0.17908244]\n",
            " [ 0.13959755 -0.04650787 -0.03828771 ... -0.04521118  0.11306737\n",
            "  -0.15526599]\n",
            " [ 0.17107336  0.0966628   0.12902503 ... -0.00570969  0.17919503\n",
            "  -0.12881418]]\n"
          ]
        }
      ]
    },
    {
      "cell_type": "code",
      "source": [
        "# Compile model. Stochastic gradient descent with Nesterov accelerated gradient gives good results for this model\n",
        "# sgd = SGD(lr=0.01, decay=1e-6, momentum=0.9, nesterov=True)\n",
        "model.compile(loss='categorical_crossentropy', optimizer='adam', metrics=['accuracy'])"
      ],
      "metadata": {
        "id": "jCirNA_KXDJw"
      },
      "execution_count": null,
      "outputs": []
    },
    {
      "cell_type": "code",
      "source": [
        "def clean_up_sentence(sentence):\n",
        "    # Tokenize the sentence\n",
        "    tokens = nltk.word_tokenize(sentence)\n",
        "    # Remove punctuation\n",
        "    table = str.maketrans('', '', string.punctuation)\n",
        "    tokens = [word.translate(table) for word in tokens]\n",
        "    # Remove empty strings and convert to lowercase\n",
        "    tokens = [word.lower() for word in tokens if word]\n",
        "    return tokens"
      ],
      "metadata": {
        "id": "1Gq20eSjlS4q"
      },
      "execution_count": null,
      "outputs": []
    },
    {
      "cell_type": "code",
      "source": [
        "#fitting and saving the model\n",
        "hist = model.fit(np.array(train_x), np.array(train_y), epochs=200, batch_size=5, verbose=1)\n",
        "model.save('chatbot_model.h5', hist)\n",
        "\n",
        "print(\"model created\")"
      ],
      "metadata": {
        "colab": {
          "base_uri": "https://localhost:8080/"
        },
        "id": "K8bVF70dXE91",
        "outputId": "64b03577-aa31-4a24-8202-963b14ceca1a"
      },
      "execution_count": null,
      "outputs": [
        {
          "output_type": "stream",
          "name": "stdout",
          "text": [
            "Epoch 1/200\n",
            "14/14 [==============================] - 2s 6ms/step - loss: 2.8789 - accuracy: 0.0429\n",
            "Epoch 2/200\n",
            "14/14 [==============================] - 0s 3ms/step - loss: 2.8520 - accuracy: 0.0714\n",
            "Epoch 3/200\n",
            "14/14 [==============================] - 0s 4ms/step - loss: 2.8344 - accuracy: 0.0571\n",
            "Epoch 4/200\n",
            "14/14 [==============================] - 0s 3ms/step - loss: 2.7733 - accuracy: 0.1143\n",
            "Epoch 5/200\n",
            "14/14 [==============================] - 0s 2ms/step - loss: 2.7686 - accuracy: 0.1143\n",
            "Epoch 6/200\n",
            "14/14 [==============================] - 0s 3ms/step - loss: 2.7381 - accuracy: 0.1714\n",
            "Epoch 7/200\n",
            "14/14 [==============================] - 0s 2ms/step - loss: 2.6923 - accuracy: 0.1714\n",
            "Epoch 8/200\n",
            "14/14 [==============================] - 0s 2ms/step - loss: 2.6392 - accuracy: 0.1571\n",
            "Epoch 9/200\n",
            "14/14 [==============================] - 0s 4ms/step - loss: 2.6020 - accuracy: 0.2714\n",
            "Epoch 10/200\n",
            "14/14 [==============================] - 0s 2ms/step - loss: 2.5415 - accuracy: 0.2571\n",
            "Epoch 11/200\n",
            "14/14 [==============================] - 0s 2ms/step - loss: 2.4880 - accuracy: 0.2714\n",
            "Epoch 12/200\n",
            "14/14 [==============================] - 0s 2ms/step - loss: 2.3963 - accuracy: 0.4429\n",
            "Epoch 13/200\n",
            "14/14 [==============================] - 0s 2ms/step - loss: 2.4043 - accuracy: 0.3286\n",
            "Epoch 14/200\n",
            "14/14 [==============================] - 0s 2ms/step - loss: 2.2454 - accuracy: 0.4571\n",
            "Epoch 15/200\n",
            "14/14 [==============================] - 0s 2ms/step - loss: 2.2100 - accuracy: 0.4429\n",
            "Epoch 16/200\n",
            "14/14 [==============================] - 0s 2ms/step - loss: 2.1450 - accuracy: 0.5143\n",
            "Epoch 17/200\n",
            "14/14 [==============================] - 0s 2ms/step - loss: 2.1361 - accuracy: 0.4714\n",
            "Epoch 18/200\n",
            "14/14 [==============================] - 0s 2ms/step - loss: 1.9582 - accuracy: 0.5429\n",
            "Epoch 19/200\n",
            "14/14 [==============================] - 0s 3ms/step - loss: 1.8965 - accuracy: 0.5429\n",
            "Epoch 20/200\n",
            "14/14 [==============================] - 0s 2ms/step - loss: 1.8661 - accuracy: 0.5571\n",
            "Epoch 21/200\n",
            "14/14 [==============================] - 0s 3ms/step - loss: 1.7793 - accuracy: 0.6286\n",
            "Epoch 22/200\n",
            "14/14 [==============================] - 0s 2ms/step - loss: 1.6651 - accuracy: 0.6286\n",
            "Epoch 23/200\n",
            "14/14 [==============================] - 0s 2ms/step - loss: 1.6007 - accuracy: 0.6857\n",
            "Epoch 24/200\n",
            "14/14 [==============================] - 0s 3ms/step - loss: 1.4523 - accuracy: 0.7143\n",
            "Epoch 25/200\n",
            "14/14 [==============================] - 0s 3ms/step - loss: 1.3631 - accuracy: 0.8000\n",
            "Epoch 26/200\n",
            "14/14 [==============================] - 0s 3ms/step - loss: 1.2401 - accuracy: 0.8143\n",
            "Epoch 27/200\n",
            "14/14 [==============================] - 0s 2ms/step - loss: 1.2331 - accuracy: 0.8143\n",
            "Epoch 28/200\n",
            "14/14 [==============================] - 0s 2ms/step - loss: 1.2107 - accuracy: 0.7857\n",
            "Epoch 29/200\n",
            "14/14 [==============================] - 0s 3ms/step - loss: 1.0864 - accuracy: 0.7714\n",
            "Epoch 30/200\n",
            "14/14 [==============================] - 0s 3ms/step - loss: 1.0673 - accuracy: 0.8000\n",
            "Epoch 31/200\n",
            "14/14 [==============================] - 0s 2ms/step - loss: 0.8937 - accuracy: 0.8286\n",
            "Epoch 32/200\n",
            "14/14 [==============================] - 0s 2ms/step - loss: 0.7710 - accuracy: 0.8857\n",
            "Epoch 33/200\n",
            "14/14 [==============================] - 0s 4ms/step - loss: 0.8346 - accuracy: 0.8857\n",
            "Epoch 34/200\n",
            "14/14 [==============================] - 0s 3ms/step - loss: 0.7199 - accuracy: 0.9286\n",
            "Epoch 35/200\n",
            "14/14 [==============================] - 0s 2ms/step - loss: 0.6686 - accuracy: 0.9571\n",
            "Epoch 36/200\n",
            "14/14 [==============================] - 0s 2ms/step - loss: 0.7414 - accuracy: 0.8571\n",
            "Epoch 37/200\n",
            "14/14 [==============================] - 0s 3ms/step - loss: 0.6202 - accuracy: 0.9000\n",
            "Epoch 38/200\n",
            "14/14 [==============================] - 0s 3ms/step - loss: 0.5640 - accuracy: 0.9000\n",
            "Epoch 39/200\n",
            "14/14 [==============================] - 0s 2ms/step - loss: 0.5177 - accuracy: 0.9286\n",
            "Epoch 40/200\n",
            "14/14 [==============================] - 0s 2ms/step - loss: 0.4494 - accuracy: 0.9429\n",
            "Epoch 41/200\n",
            "14/14 [==============================] - 0s 2ms/step - loss: 0.5307 - accuracy: 0.9571\n",
            "Epoch 42/200\n",
            "14/14 [==============================] - 0s 2ms/step - loss: 0.4906 - accuracy: 0.9571\n",
            "Epoch 43/200\n",
            "14/14 [==============================] - 0s 2ms/step - loss: 0.4963 - accuracy: 0.9714\n",
            "Epoch 44/200\n",
            "14/14 [==============================] - 0s 3ms/step - loss: 0.5183 - accuracy: 0.8857\n",
            "Epoch 45/200\n",
            "14/14 [==============================] - 0s 3ms/step - loss: 0.5812 - accuracy: 0.8571\n",
            "Epoch 46/200\n",
            "14/14 [==============================] - 0s 2ms/step - loss: 0.3055 - accuracy: 0.9714\n",
            "Epoch 47/200\n",
            "14/14 [==============================] - 0s 2ms/step - loss: 0.3352 - accuracy: 0.9857\n",
            "Epoch 48/200\n",
            "14/14 [==============================] - 0s 2ms/step - loss: 0.3536 - accuracy: 0.9571\n",
            "Epoch 49/200\n",
            "14/14 [==============================] - 0s 3ms/step - loss: 0.3166 - accuracy: 0.9571\n",
            "Epoch 50/200\n",
            "14/14 [==============================] - 0s 2ms/step - loss: 0.3788 - accuracy: 0.9571\n",
            "Epoch 51/200\n",
            "14/14 [==============================] - 0s 2ms/step - loss: 0.3735 - accuracy: 0.9714\n",
            "Epoch 52/200\n",
            "14/14 [==============================] - 0s 3ms/step - loss: 0.3064 - accuracy: 0.9714\n",
            "Epoch 53/200\n",
            "14/14 [==============================] - 0s 3ms/step - loss: 0.3062 - accuracy: 0.9429\n",
            "Epoch 54/200\n",
            "14/14 [==============================] - 0s 2ms/step - loss: 0.2550 - accuracy: 0.9714\n",
            "Epoch 55/200\n",
            "14/14 [==============================] - 0s 3ms/step - loss: 0.2646 - accuracy: 0.9714\n",
            "Epoch 56/200\n",
            "14/14 [==============================] - 0s 3ms/step - loss: 0.3332 - accuracy: 0.9286\n",
            "Epoch 57/200\n",
            "14/14 [==============================] - 0s 3ms/step - loss: 0.3345 - accuracy: 0.9286\n",
            "Epoch 58/200\n",
            "14/14 [==============================] - 0s 2ms/step - loss: 0.2140 - accuracy: 0.9714\n",
            "Epoch 59/200\n",
            "14/14 [==============================] - 0s 2ms/step - loss: 0.2176 - accuracy: 0.9714\n",
            "Epoch 60/200\n",
            "14/14 [==============================] - 0s 2ms/step - loss: 0.2168 - accuracy: 0.9857\n",
            "Epoch 61/200\n",
            "14/14 [==============================] - 0s 2ms/step - loss: 0.2335 - accuracy: 0.9714\n",
            "Epoch 62/200\n",
            "14/14 [==============================] - 0s 2ms/step - loss: 0.1938 - accuracy: 0.9857\n",
            "Epoch 63/200\n",
            "14/14 [==============================] - 0s 2ms/step - loss: 0.2677 - accuracy: 0.9571\n",
            "Epoch 64/200\n",
            "14/14 [==============================] - 0s 2ms/step - loss: 0.2413 - accuracy: 0.9143\n",
            "Epoch 65/200\n",
            "14/14 [==============================] - 0s 2ms/step - loss: 0.2338 - accuracy: 0.9571\n",
            "Epoch 66/200\n",
            "14/14 [==============================] - 0s 3ms/step - loss: 0.1981 - accuracy: 0.9714\n",
            "Epoch 67/200\n",
            "14/14 [==============================] - 0s 2ms/step - loss: 0.2368 - accuracy: 0.9429\n",
            "Epoch 68/200\n",
            "14/14 [==============================] - 0s 3ms/step - loss: 0.1309 - accuracy: 1.0000\n",
            "Epoch 69/200\n",
            "14/14 [==============================] - 0s 2ms/step - loss: 0.2144 - accuracy: 0.9571\n",
            "Epoch 70/200\n",
            "14/14 [==============================] - 0s 3ms/step - loss: 0.1425 - accuracy: 0.9714\n",
            "Epoch 71/200\n",
            "14/14 [==============================] - 0s 2ms/step - loss: 0.1853 - accuracy: 0.9714\n",
            "Epoch 72/200\n",
            "14/14 [==============================] - 0s 2ms/step - loss: 0.1390 - accuracy: 0.9714\n",
            "Epoch 73/200\n",
            "14/14 [==============================] - 0s 2ms/step - loss: 0.1145 - accuracy: 1.0000\n",
            "Epoch 74/200\n",
            "14/14 [==============================] - 0s 3ms/step - loss: 0.1536 - accuracy: 0.9857\n",
            "Epoch 75/200\n",
            "14/14 [==============================] - 0s 3ms/step - loss: 0.1537 - accuracy: 0.9714\n",
            "Epoch 76/200\n",
            "14/14 [==============================] - 0s 3ms/step - loss: 0.1908 - accuracy: 0.9714\n",
            "Epoch 77/200\n",
            "14/14 [==============================] - 0s 2ms/step - loss: 0.1442 - accuracy: 1.0000\n",
            "Epoch 78/200\n",
            "14/14 [==============================] - 0s 3ms/step - loss: 0.1835 - accuracy: 0.9857\n",
            "Epoch 79/200\n",
            "14/14 [==============================] - 0s 4ms/step - loss: 0.1889 - accuracy: 0.9571\n",
            "Epoch 80/200\n",
            "14/14 [==============================] - 0s 3ms/step - loss: 0.1379 - accuracy: 0.9857\n",
            "Epoch 81/200\n",
            "14/14 [==============================] - 0s 2ms/step - loss: 0.1156 - accuracy: 0.9857\n",
            "Epoch 82/200\n",
            "14/14 [==============================] - 0s 2ms/step - loss: 0.1674 - accuracy: 0.9571\n",
            "Epoch 83/200\n",
            "14/14 [==============================] - 0s 2ms/step - loss: 0.1058 - accuracy: 1.0000\n",
            "Epoch 84/200\n",
            "14/14 [==============================] - 0s 2ms/step - loss: 0.1085 - accuracy: 0.9714\n",
            "Epoch 85/200\n",
            "14/14 [==============================] - 0s 2ms/step - loss: 0.1861 - accuracy: 0.9571\n",
            "Epoch 86/200\n",
            "14/14 [==============================] - 0s 2ms/step - loss: 0.1771 - accuracy: 0.9714\n",
            "Epoch 87/200\n",
            "14/14 [==============================] - 0s 2ms/step - loss: 0.1390 - accuracy: 0.9857\n",
            "Epoch 88/200\n",
            "14/14 [==============================] - 0s 3ms/step - loss: 0.1713 - accuracy: 0.9714\n",
            "Epoch 89/200\n",
            "14/14 [==============================] - 0s 2ms/step - loss: 0.1343 - accuracy: 0.9857\n",
            "Epoch 90/200\n",
            "14/14 [==============================] - 0s 3ms/step - loss: 0.1550 - accuracy: 0.9714\n",
            "Epoch 91/200\n",
            "14/14 [==============================] - 0s 3ms/step - loss: 0.1285 - accuracy: 0.9857\n",
            "Epoch 92/200\n",
            "14/14 [==============================] - 0s 2ms/step - loss: 0.1645 - accuracy: 0.9286\n",
            "Epoch 93/200\n",
            "14/14 [==============================] - 0s 3ms/step - loss: 0.1746 - accuracy: 0.9571\n",
            "Epoch 94/200\n",
            "14/14 [==============================] - 0s 2ms/step - loss: 0.1193 - accuracy: 0.9714\n",
            "Epoch 95/200\n",
            "14/14 [==============================] - 0s 2ms/step - loss: 0.0895 - accuracy: 0.9714\n",
            "Epoch 96/200\n",
            "14/14 [==============================] - 0s 3ms/step - loss: 0.0637 - accuracy: 1.0000\n",
            "Epoch 97/200\n",
            "14/14 [==============================] - 0s 3ms/step - loss: 0.0922 - accuracy: 0.9857\n",
            "Epoch 98/200\n",
            "14/14 [==============================] - 0s 2ms/step - loss: 0.0872 - accuracy: 0.9857\n",
            "Epoch 99/200\n",
            "14/14 [==============================] - 0s 2ms/step - loss: 0.0795 - accuracy: 0.9857\n",
            "Epoch 100/200\n",
            "14/14 [==============================] - 0s 2ms/step - loss: 0.0827 - accuracy: 0.9857\n",
            "Epoch 101/200\n",
            "14/14 [==============================] - 0s 3ms/step - loss: 0.0597 - accuracy: 1.0000\n",
            "Epoch 102/200\n",
            "14/14 [==============================] - 0s 2ms/step - loss: 0.0642 - accuracy: 1.0000\n",
            "Epoch 103/200\n",
            "14/14 [==============================] - 0s 4ms/step - loss: 0.0988 - accuracy: 0.9714\n",
            "Epoch 104/200\n",
            "14/14 [==============================] - 0s 3ms/step - loss: 0.0653 - accuracy: 1.0000\n",
            "Epoch 105/200\n",
            "14/14 [==============================] - 0s 2ms/step - loss: 0.0842 - accuracy: 0.9714\n",
            "Epoch 106/200\n",
            "14/14 [==============================] - 0s 2ms/step - loss: 0.0831 - accuracy: 0.9857\n",
            "Epoch 107/200\n",
            "14/14 [==============================] - 0s 2ms/step - loss: 0.0807 - accuracy: 1.0000\n",
            "Epoch 108/200\n",
            "14/14 [==============================] - 0s 2ms/step - loss: 0.0786 - accuracy: 0.9857\n",
            "Epoch 109/200\n",
            "14/14 [==============================] - 0s 2ms/step - loss: 0.1316 - accuracy: 0.9714\n",
            "Epoch 110/200\n",
            "14/14 [==============================] - 0s 2ms/step - loss: 0.0908 - accuracy: 0.9857\n",
            "Epoch 111/200\n",
            "14/14 [==============================] - 0s 2ms/step - loss: 0.1015 - accuracy: 0.9857\n",
            "Epoch 112/200\n",
            "14/14 [==============================] - 0s 2ms/step - loss: 0.0775 - accuracy: 1.0000\n",
            "Epoch 113/200\n",
            "14/14 [==============================] - 0s 3ms/step - loss: 0.1158 - accuracy: 0.9857\n",
            "Epoch 114/200\n",
            "14/14 [==============================] - 0s 2ms/step - loss: 0.1223 - accuracy: 0.9571\n",
            "Epoch 115/200\n",
            "14/14 [==============================] - 0s 3ms/step - loss: 0.1000 - accuracy: 0.9857\n",
            "Epoch 116/200\n",
            "14/14 [==============================] - 0s 2ms/step - loss: 0.1072 - accuracy: 1.0000\n",
            "Epoch 117/200\n",
            "14/14 [==============================] - 0s 2ms/step - loss: 0.1179 - accuracy: 0.9429\n",
            "Epoch 118/200\n",
            "14/14 [==============================] - 0s 2ms/step - loss: 0.0751 - accuracy: 0.9857\n",
            "Epoch 119/200\n",
            "14/14 [==============================] - 0s 2ms/step - loss: 0.0799 - accuracy: 0.9857\n",
            "Epoch 120/200\n",
            "14/14 [==============================] - 0s 2ms/step - loss: 0.0376 - accuracy: 1.0000\n",
            "Epoch 121/200\n",
            "14/14 [==============================] - 0s 3ms/step - loss: 0.0848 - accuracy: 1.0000\n",
            "Epoch 122/200\n",
            "14/14 [==============================] - 0s 2ms/step - loss: 0.0885 - accuracy: 0.9714\n",
            "Epoch 123/200\n",
            "14/14 [==============================] - 0s 2ms/step - loss: 0.0484 - accuracy: 1.0000\n",
            "Epoch 124/200\n",
            "14/14 [==============================] - 0s 2ms/step - loss: 0.0569 - accuracy: 1.0000\n",
            "Epoch 125/200\n",
            "14/14 [==============================] - 0s 3ms/step - loss: 0.0658 - accuracy: 0.9857\n",
            "Epoch 126/200\n",
            "14/14 [==============================] - 0s 2ms/step - loss: 0.0492 - accuracy: 0.9857\n",
            "Epoch 127/200\n",
            "14/14 [==============================] - 0s 3ms/step - loss: 0.0528 - accuracy: 0.9857\n",
            "Epoch 128/200\n",
            "14/14 [==============================] - 0s 2ms/step - loss: 0.0563 - accuracy: 1.0000\n",
            "Epoch 129/200\n",
            "14/14 [==============================] - 0s 2ms/step - loss: 0.0631 - accuracy: 1.0000\n",
            "Epoch 130/200\n",
            "14/14 [==============================] - 0s 3ms/step - loss: 0.0668 - accuracy: 1.0000\n",
            "Epoch 131/200\n",
            "14/14 [==============================] - 0s 2ms/step - loss: 0.0677 - accuracy: 0.9857\n",
            "Epoch 132/200\n",
            "14/14 [==============================] - 0s 2ms/step - loss: 0.0654 - accuracy: 1.0000\n",
            "Epoch 133/200\n",
            "14/14 [==============================] - 0s 2ms/step - loss: 0.0715 - accuracy: 0.9857\n",
            "Epoch 134/200\n",
            "14/14 [==============================] - 0s 3ms/step - loss: 0.0632 - accuracy: 0.9857\n",
            "Epoch 135/200\n",
            "14/14 [==============================] - 0s 3ms/step - loss: 0.0699 - accuracy: 0.9714\n",
            "Epoch 136/200\n",
            "14/14 [==============================] - 0s 3ms/step - loss: 0.0652 - accuracy: 0.9857\n",
            "Epoch 137/200\n",
            "14/14 [==============================] - 0s 2ms/step - loss: 0.0591 - accuracy: 0.9857\n",
            "Epoch 138/200\n",
            "14/14 [==============================] - 0s 2ms/step - loss: 0.0465 - accuracy: 1.0000\n",
            "Epoch 139/200\n",
            "14/14 [==============================] - 0s 2ms/step - loss: 0.0588 - accuracy: 1.0000\n",
            "Epoch 140/200\n",
            "14/14 [==============================] - 0s 2ms/step - loss: 0.0654 - accuracy: 0.9857\n",
            "Epoch 141/200\n",
            "14/14 [==============================] - 0s 3ms/step - loss: 0.1051 - accuracy: 0.9714\n",
            "Epoch 142/200\n",
            "14/14 [==============================] - 0s 2ms/step - loss: 0.0274 - accuracy: 1.0000\n",
            "Epoch 143/200\n",
            "14/14 [==============================] - 0s 2ms/step - loss: 0.0348 - accuracy: 1.0000\n",
            "Epoch 144/200\n",
            "14/14 [==============================] - 0s 2ms/step - loss: 0.0477 - accuracy: 0.9714\n",
            "Epoch 145/200\n",
            "14/14 [==============================] - 0s 2ms/step - loss: 0.0882 - accuracy: 0.9714\n",
            "Epoch 146/200\n",
            "14/14 [==============================] - 0s 2ms/step - loss: 0.0609 - accuracy: 0.9857\n",
            "Epoch 147/200\n",
            "14/14 [==============================] - 0s 2ms/step - loss: 0.0781 - accuracy: 0.9857\n",
            "Epoch 148/200\n",
            "14/14 [==============================] - 0s 3ms/step - loss: 0.0441 - accuracy: 1.0000\n",
            "Epoch 149/200\n",
            "14/14 [==============================] - 0s 4ms/step - loss: 0.0362 - accuracy: 1.0000\n",
            "Epoch 150/200\n",
            "14/14 [==============================] - 0s 3ms/step - loss: 0.0382 - accuracy: 1.0000\n",
            "Epoch 151/200\n",
            "14/14 [==============================] - 0s 4ms/step - loss: 0.0521 - accuracy: 1.0000\n",
            "Epoch 152/200\n",
            "14/14 [==============================] - 0s 4ms/step - loss: 0.0214 - accuracy: 1.0000\n",
            "Epoch 153/200\n",
            "14/14 [==============================] - 0s 3ms/step - loss: 0.0351 - accuracy: 0.9857\n",
            "Epoch 154/200\n",
            "14/14 [==============================] - 0s 3ms/step - loss: 0.0553 - accuracy: 0.9857\n",
            "Epoch 155/200\n",
            "14/14 [==============================] - 0s 4ms/step - loss: 0.0411 - accuracy: 1.0000\n",
            "Epoch 156/200\n",
            "14/14 [==============================] - 0s 4ms/step - loss: 0.0361 - accuracy: 0.9857\n",
            "Epoch 157/200\n",
            "14/14 [==============================] - 0s 3ms/step - loss: 0.0681 - accuracy: 0.9714\n",
            "Epoch 158/200\n",
            "14/14 [==============================] - 0s 3ms/step - loss: 0.0630 - accuracy: 0.9714\n",
            "Epoch 159/200\n",
            "14/14 [==============================] - 0s 3ms/step - loss: 0.0569 - accuracy: 0.9857\n",
            "Epoch 160/200\n",
            "14/14 [==============================] - 0s 3ms/step - loss: 0.0780 - accuracy: 0.9714\n",
            "Epoch 161/200\n",
            "14/14 [==============================] - 0s 3ms/step - loss: 0.0760 - accuracy: 0.9714\n",
            "Epoch 162/200\n",
            "14/14 [==============================] - 0s 3ms/step - loss: 0.0289 - accuracy: 1.0000\n",
            "Epoch 163/200\n",
            "14/14 [==============================] - 0s 5ms/step - loss: 0.0470 - accuracy: 1.0000\n",
            "Epoch 164/200\n",
            "14/14 [==============================] - 0s 4ms/step - loss: 0.0525 - accuracy: 0.9857\n",
            "Epoch 165/200\n",
            "14/14 [==============================] - 0s 3ms/step - loss: 0.0478 - accuracy: 0.9714\n",
            "Epoch 166/200\n",
            "14/14 [==============================] - 0s 3ms/step - loss: 0.0562 - accuracy: 1.0000\n",
            "Epoch 167/200\n",
            "14/14 [==============================] - 0s 3ms/step - loss: 0.0544 - accuracy: 0.9857\n",
            "Epoch 168/200\n",
            "14/14 [==============================] - 0s 4ms/step - loss: 0.0881 - accuracy: 0.9714\n",
            "Epoch 169/200\n",
            "14/14 [==============================] - 0s 3ms/step - loss: 0.0498 - accuracy: 1.0000\n",
            "Epoch 170/200\n",
            "14/14 [==============================] - 0s 4ms/step - loss: 0.0433 - accuracy: 1.0000\n",
            "Epoch 171/200\n",
            "14/14 [==============================] - 0s 4ms/step - loss: 0.0427 - accuracy: 0.9857\n",
            "Epoch 172/200\n",
            "14/14 [==============================] - 0s 3ms/step - loss: 0.0326 - accuracy: 1.0000\n",
            "Epoch 173/200\n",
            "14/14 [==============================] - 0s 4ms/step - loss: 0.0747 - accuracy: 0.9857\n",
            "Epoch 174/200\n",
            "14/14 [==============================] - 0s 3ms/step - loss: 0.0170 - accuracy: 1.0000\n",
            "Epoch 175/200\n",
            "14/14 [==============================] - 0s 4ms/step - loss: 0.0769 - accuracy: 1.0000\n",
            "Epoch 176/200\n",
            "14/14 [==============================] - 0s 3ms/step - loss: 0.0783 - accuracy: 0.9714\n",
            "Epoch 177/200\n",
            "14/14 [==============================] - 0s 3ms/step - loss: 0.0313 - accuracy: 1.0000\n",
            "Epoch 178/200\n",
            "14/14 [==============================] - 0s 3ms/step - loss: 0.0577 - accuracy: 0.9857\n",
            "Epoch 179/200\n",
            "14/14 [==============================] - 0s 3ms/step - loss: 0.0343 - accuracy: 0.9857\n",
            "Epoch 180/200\n",
            "14/14 [==============================] - 0s 3ms/step - loss: 0.0345 - accuracy: 1.0000\n",
            "Epoch 181/200\n",
            "14/14 [==============================] - 0s 3ms/step - loss: 0.0207 - accuracy: 1.0000\n",
            "Epoch 182/200\n",
            "14/14 [==============================] - 0s 4ms/step - loss: 0.0549 - accuracy: 0.9857\n",
            "Epoch 183/200\n",
            "14/14 [==============================] - 0s 3ms/step - loss: 0.0578 - accuracy: 0.9857\n",
            "Epoch 184/200\n",
            "14/14 [==============================] - 0s 3ms/step - loss: 0.0238 - accuracy: 1.0000\n",
            "Epoch 185/200\n",
            "14/14 [==============================] - 0s 3ms/step - loss: 0.0361 - accuracy: 0.9857\n",
            "Epoch 186/200\n",
            "14/14 [==============================] - 0s 3ms/step - loss: 0.0718 - accuracy: 0.9571\n",
            "Epoch 187/200\n",
            "14/14 [==============================] - 0s 4ms/step - loss: 0.1010 - accuracy: 0.9857\n",
            "Epoch 188/200\n",
            "14/14 [==============================] - 0s 3ms/step - loss: 0.0180 - accuracy: 1.0000\n",
            "Epoch 189/200\n",
            "14/14 [==============================] - 0s 3ms/step - loss: 0.0256 - accuracy: 1.0000\n",
            "Epoch 190/200\n",
            "14/14 [==============================] - 0s 4ms/step - loss: 0.0434 - accuracy: 1.0000\n",
            "Epoch 191/200\n",
            "14/14 [==============================] - 0s 4ms/step - loss: 0.0317 - accuracy: 1.0000\n",
            "Epoch 192/200\n",
            "14/14 [==============================] - 0s 5ms/step - loss: 0.0309 - accuracy: 0.9857\n",
            "Epoch 193/200\n",
            "14/14 [==============================] - 0s 8ms/step - loss: 0.1018 - accuracy: 0.9571\n",
            "Epoch 194/200\n",
            "14/14 [==============================] - 0s 9ms/step - loss: 0.0188 - accuracy: 1.0000\n",
            "Epoch 195/200\n",
            "14/14 [==============================] - 0s 9ms/step - loss: 0.0193 - accuracy: 1.0000\n",
            "Epoch 196/200\n",
            "14/14 [==============================] - 0s 7ms/step - loss: 0.0373 - accuracy: 1.0000\n",
            "Epoch 197/200\n",
            "14/14 [==============================] - 0s 7ms/step - loss: 0.0504 - accuracy: 1.0000\n",
            "Epoch 198/200\n",
            "14/14 [==============================] - 0s 10ms/step - loss: 0.0341 - accuracy: 1.0000\n",
            "Epoch 199/200\n",
            "14/14 [==============================] - 0s 8ms/step - loss: 0.0401 - accuracy: 0.9857\n",
            "Epoch 200/200\n",
            "14/14 [==============================] - 0s 12ms/step - loss: 0.0564 - accuracy: 0.9714\n",
            "model created\n"
          ]
        }
      ]
    },
    {
      "cell_type": "code",
      "source": [
        "def bow(sentence, words, show_details=True):\n",
        "    sentence_words = clean_up_sentence(sentence)\n",
        "    # Initialize bag of words\n",
        "    bag = [0]*50  # Fixed length of 50\n",
        "    for s in sentence_words:\n",
        "        if s in words:\n",
        "            # Get the index of the word in the vocabulary\n",
        "            idx = words.index(s)\n",
        "            if idx < 50:\n",
        "                # Assign 1 if the index is within range\n",
        "                bag[idx] = 1\n",
        "            else:\n",
        "                if show_details:\n",
        "                    print(\"Word index out of range: %s\" % s)\n",
        "    return np.array(bag)\n"
      ],
      "metadata": {
        "id": "6EfQIaCyS0Ih"
      },
      "execution_count": null,
      "outputs": []
    },
    {
      "cell_type": "code",
      "source": [
        "import pickle\n",
        "\n",
        "# Load words from file\n",
        "words = pickle.load(open('words.pkl', 'rb'))"
      ],
      "metadata": {
        "id": "IHYrhE6ssMmk"
      },
      "execution_count": null,
      "outputs": []
    },
    {
      "cell_type": "code",
      "source": [
        "bow(\"What can you tell me about Python?\",words, show_details=True)"
      ],
      "metadata": {
        "colab": {
          "base_uri": "https://localhost:8080/"
        },
        "id": "TFpHyMqKlvm4",
        "outputId": "f7664522-1135-49f0-b78e-257c98c20575"
      },
      "execution_count": null,
      "outputs": [
        {
          "output_type": "execute_result",
          "data": {
            "text/plain": [
              "array([0, 0, 1, 0, 0, 0, 0, 1, 0, 0, 0, 0, 0, 0, 0, 0, 0, 0, 0, 0, 0, 0,\n",
              "       0, 0, 0, 0, 0, 0, 1, 0, 0, 0, 0, 0, 1, 0, 0, 0, 0, 0, 0, 0, 1, 0,\n",
              "       0, 0, 1, 0, 0, 1])"
            ]
          },
          "metadata": {},
          "execution_count": 19
        }
      ]
    },
    {
      "cell_type": "code",
      "source": [
        "words"
      ],
      "metadata": {
        "colab": {
          "base_uri": "https://localhost:8080/"
        },
        "id": "7mbMj6Zgl_v9",
        "outputId": "d68dd4f9-6c3f-45d2-890f-06c8560626ec"
      },
      "execution_count": null,
      "outputs": [
        {
          "output_type": "execute_result",
          "data": {
            "text/plain": [
              "[\"'s\",\n",
              " 'a',\n",
              " 'about',\n",
              " 'afternoon',\n",
              " 'back',\n",
              " 'be',\n",
              " 'c++',\n",
              " 'can',\n",
              " 'cs',\n",
              " 'developer',\n",
              " 'development',\n",
              " 'do',\n",
              " 'doe',\n",
              " 'end',\n",
              " 'front',\n",
              " 'full',\n",
              " 'go',\n",
              " 'good',\n",
              " 'hello',\n",
              " 'hey',\n",
              " 'hi',\n",
              " 'html',\n",
              " 'i',\n",
              " 'information',\n",
              " 'is',\n",
              " 'java',\n",
              " 'javascript',\n",
              " 'learn',\n",
              " 'me',\n",
              " 'mobile',\n",
              " 'more',\n",
              " 'morning',\n",
              " 'need',\n",
              " 'php',\n",
              " 'python',\n",
              " 'ruby',\n",
              " 'should',\n",
              " 'skill',\n",
              " 'special',\n",
              " 'sql',\n",
              " 'stack',\n",
              " 'swift',\n",
              " 'tell',\n",
              " 'to',\n",
              " 'typescript',\n",
              " 'want',\n",
              " 'what',\n",
              " 'why',\n",
              " 'yo',\n",
              " 'you']"
            ]
          },
          "metadata": {},
          "execution_count": 20
        }
      ]
    },
    {
      "cell_type": "code",
      "source": [
        "def predict_class(sentence, words):\n",
        "    # Generate probabilities from the model\n",
        "    p = bow(sentence, words, show_details=True)\n",
        "    res = model.predict(np.array([p]))[0]  # Remove [50]\n",
        "    # Get index of the maximum probability\n",
        "    max_prob_index = np.argmax(res)\n",
        "    # Get the corresponding class and probability\n",
        "    predicted_class = classes[max_prob_index]\n",
        "    confidence = res[max_prob_index]\n",
        "    return [(predicted_class, confidence)]\n",
        "\n"
      ],
      "metadata": {
        "id": "KZJuP6CjkQ4W"
      },
      "execution_count": null,
      "outputs": []
    },
    {
      "cell_type": "code",
      "source": [
        "def get_response(ints):\n",
        "    tag = ints[0][0]\n",
        "    for intent in intents:\n",
        "        if intent['tag'] == tag:\n",
        "            responses = intent['responses']\n",
        "            return random.choice(responses)\n",
        "    return \"I'm sorry, I don't understand that.\"\n",
        "\n",
        "# Function to interact with the chatbot\n",
        "def chatbot_response(sentence):\n",
        "    ints = predict_class(sentence, words)  # Pass the 'words' argument here\n",
        "    response = get_response(ints)\n",
        "    return response\n",
        "\n",
        "# Example usage:\n",
        "words = [\"'s\", 'a', 'about', 'afternoon', 'back', 'be', 'c++', 'can', 'cs', 'developer', 'development', 'do', 'doe', 'end', 'front', 'full', 'go', 'good', 'hello', 'hey', 'hi', 'html', 'i', 'information', 'is', 'java', 'javascript', 'learn', 'me', 'mobile', 'more', 'morning', 'need', 'php', 'python', 'ruby', 'should', 'skill', 'special', 'sql', 'stack', 'swift', 'tell', 'to', 'typescript', 'want', 'what', 'why', 'yo', 'you']  # Define your words list here\n",
        "print(chatbot_response(\"end\"))\n"
      ],
      "metadata": {
        "colab": {
          "base_uri": "https://localhost:8080/"
        },
        "id": "18uK3lEVXwsM",
        "outputId": "54b0f958-9cdb-45a7-aeb2-3aea86ec5c38"
      },
      "execution_count": null,
      "outputs": [
        {
          "output_type": "stream",
          "name": "stdout",
          "text": [
            "1/1 [==============================] - 0s 39ms/step\n",
            "Front end developers focus on the user interface and user experience.\n"
          ]
        }
      ]
    }
  ]
}